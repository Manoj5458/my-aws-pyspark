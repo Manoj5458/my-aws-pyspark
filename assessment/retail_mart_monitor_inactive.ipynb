{
 "cells": [
  {
   "cell_type": "markdown",
   "metadata": {
    "id": "Py-9cUe2G2al"
   },
   "source": [
    "# Pyspark"
   ]
  },
  {
   "cell_type": "code",
   "execution_count": null,
   "metadata": {
    "id": "RegCsaNreucq"
   },
   "outputs": [],
   "source": [
    "from datetime import datetime\n",
    "from pyspark.sql import SparkSession\n",
    "from pyspark.sql.functions import col, expr, year\n",
    "from pyspark.sql.types import IntegerType\n",
    "\n",
    "spark = SparkSession.builder.appName(\"MonitorAnalysis\")\\\n",
    "    .config(\"spark.jars.packages\", \"org.apache.hadoop:hadoop-aws:3.3.1,com.amazonaws:aws-java-sdk-bundle:1.11.901\") \\\n",
    ".config(\"spark.hadoop.fs.s3a.access.key\", \"ACCESS_KEY\")\\\n",
    "    .config(\"spark.hadoop.fs.s3a.secret.key\", \"SECRET_KEY\")\\\n",
    "    .config(\"spark.hadoop.fs.s3a.endpoint\", \"s3.amazonaws.com\")\\\n",
    "    .config(\"spark.hadoop.fs.s3a.path.style.access\", \"true\")\\\n",
    "    .config(\"spark.hadoop.fs.s3a.metastore.metrics.enabled\", \"false\") \\\n",
    "    .config(\"spark.hadoop.io.native.lib.available\", \"false\")\\\n",
    "    .config(\"spark.executor.memory\", \"4g\")\\\n",
    "    .config(\"spark.driver.memory\", \"4g\")\\\n",
    "    .config(\"spark.hadoop.fs.s3a.region\", \"ap-south-1\") \\\n",
    "    .getOrCreate()"
   ]
  },
  {
   "cell_type": "markdown",
   "metadata": {
    "id": "50XYqgxoG6iM"
   },
   "source": [
    "**OS Setup**"
   ]
  },
  {
   "cell_type": "code",
   "execution_count": null,
   "metadata": {
    "id": "ssrrJzeJGjMu"
   },
   "outputs": [],
   "source": [
    "import os\n",
    "\n",
    "os.environ['AWS_ACCESS_KEY_ID'] = 'ACCESS_KEY'\n",
    "os.environ['AWS_SECRET_ACCESS_KEY'] = 'SECRET_KEY'\n",
    "os.environ['AWS_DEFAULT_REGION'] = 'ap-south-1'"
   ]
  },
  {
   "cell_type": "markdown",
   "metadata": {
    "id": "BveTS6oNHA5N"
   },
   "source": [
    "**Boto Setup**"
   ]
  },
  {
   "cell_type": "code",
   "execution_count": 3,
   "metadata": {
    "colab": {
     "base_uri": "https://localhost:8080/"
    },
    "id": "K1NFK4PJGydc",
    "outputId": "896c8cfa-2b5b-4c5b-a3d2-feb4f4b0e949"
   },
   "outputs": [
    {
     "name": "stdout",
     "output_type": "stream",
     "text": [
      "Requirement already satisfied: boto3 in /usr/local/lib/python3.10/dist-packages (1.35.55)\n",
      "Requirement already satisfied: botocore<1.36.0,>=1.35.55 in /usr/local/lib/python3.10/dist-packages (from boto3) (1.35.55)\n",
      "Requirement already satisfied: jmespath<2.0.0,>=0.7.1 in /usr/local/lib/python3.10/dist-packages (from boto3) (1.0.1)\n",
      "Requirement already satisfied: s3transfer<0.11.0,>=0.10.0 in /usr/local/lib/python3.10/dist-packages (from boto3) (0.10.3)\n",
      "Requirement already satisfied: python-dateutil<3.0.0,>=2.1 in /usr/local/lib/python3.10/dist-packages (from botocore<1.36.0,>=1.35.55->boto3) (2.8.2)\n",
      "Requirement already satisfied: urllib3!=2.2.0,<3,>=1.25.4 in /usr/local/lib/python3.10/dist-packages (from botocore<1.36.0,>=1.35.55->boto3) (2.2.3)\n",
      "Requirement already satisfied: six>=1.5 in /usr/local/lib/python3.10/dist-packages (from python-dateutil<3.0.0,>=2.1->botocore<1.36.0,>=1.35.55->boto3) (1.16.0)\n"
     ]
    }
   ],
   "source": [
    "pip install boto3"
   ]
  },
  {
   "cell_type": "markdown",
   "metadata": {
    "id": "EwXMea5wG_ws"
   },
   "source": [
    "Boto"
   ]
  },
  {
   "cell_type": "code",
   "execution_count": null,
   "metadata": {
    "id": "bw2sQSUTGt2d"
   },
   "outputs": [],
   "source": [
    "import boto3\n",
    "\n",
    "# Create a session with your credentials\n",
    "session = boto3.Session(\n",
    "    aws_access_key_id='ACCESS_KEY',\n",
    "    aws_secret_access_key='SECRET_KEY',\n",
    "    region_name='ap-south-1'  # e.g., 'us-east-1'\n",
    ")\n",
    "\n",
    "dynamodb = session.resource('dynamodb')\n",
    "table = dynamodb.Table('customers')"
   ]
  },
  {
   "cell_type": "markdown",
   "metadata": {
    "id": "1ZOxmUgcPf1G"
   },
   "source": [
    "# RetailMart wants to analyze churn by monitoring inactive accounts"
   ]
  },
  {
   "cell_type": "code",
   "execution_count": 4,
   "metadata": {
    "id": "pgELY9unK8XI"
   },
   "outputs": [],
   "source": [
    "response = table.scan()\n",
    "cust_data = response['Items']"
   ]
  },
  {
   "cell_type": "code",
   "execution_count": 5,
   "metadata": {
    "id": "ZyoHZ-IoMrYI"
   },
   "outputs": [],
   "source": [
    "# Convert the DynamoDB items to DataFrame\n",
    "cust_df = spark.createDataFrame(cust_data)"
   ]
  },
  {
   "cell_type": "code",
   "execution_count": 6,
   "metadata": {
    "id": "jPQ7a7SEMvk4"
   },
   "outputs": [],
   "source": [
    "# Load data from s3\n",
    "sales_input = \"s3a://this-is-my-bucket007/transactions.csv\"\n",
    "trans_df = spark.read.csv(sales_input, header=True, inferSchema=True)\n"
   ]
  },
  {
   "cell_type": "code",
   "execution_count": 7,
   "metadata": {
    "colab": {
     "base_uri": "https://localhost:8080/"
    },
    "id": "VEp9k0l2NASx",
    "outputId": "404658e3-4434-4939-ae77-1c44c6a57c09"
   },
   "outputs": [
    {
     "name": "stdout",
     "output_type": "stream",
     "text": [
      "Customer Data from DynamoDB:\n",
      "+-----------+-------------+-----------------+--------------+\n",
      "|customer_id|customer_name|favorite_category|      inactive|\n",
      "+-----------+-------------+-----------------+--------------+\n",
      "|       C125|        manoj|            Books|{BOOL -> true}|\n",
      "|       C128|         NULL|         Clothing|          NULL|\n",
      "|       C126|          Leo|            Books|{BOOL -> true}|\n",
      "|       C123|         John|      Electronics|{BOOL -> true}|\n",
      "|       C127|         NULL|         Clothing|          NULL|\n",
      "|       C124|        brock|      Electronics|{BOOL -> true}|\n",
      "+-----------+-------------+-----------------+--------------+\n",
      "\n",
      "Transaction Data from S3:\n",
      "+--------------+-----------+----------------+------+----------------+\n",
      "|transaction_id|customer_id|transaction_date|amount|product_category|\n",
      "+--------------+-----------+----------------+------+----------------+\n",
      "|          T001|       C123|      2024-01-15|  1200|     Electronics|\n",
      "|          T002|       C124|      2024-01-16|   800|        Clothing|\n",
      "|          T003|       C125|      2024-01-17|  1500| Home Appliances|\n",
      "|          T004|       C123|      2024-01-18|  2000|     Electronics|\n",
      "|          T005|       C126|      2024-01-19|   500|           Books|\n",
      "|          T006|       C127|      2024-01-20|   300|        Clothing|\n",
      "|          T007|       C123|      2024-01-21|  4000|       Furniture|\n",
      "|          T008|       C125|      2024-01-22|   200|           Books|\n",
      "|          T009|       C124|      2024-01-23|  1800|     Electronics|\n",
      "|          T010|       C128|      2024-01-24|   700|        Clothing|\n",
      "+--------------+-----------+----------------+------+----------------+\n",
      "\n"
     ]
    }
   ],
   "source": [
    "print(\"Customer Data from DynamoDB:\")\n",
    "cust_df.show()\n",
    "print(\"Transaction Data from S3:\")\n",
    "trans_df.show()"
   ]
  },
  {
   "cell_type": "code",
   "execution_count": 9,
   "metadata": {
    "id": "6T28pZ9ZUN05"
   },
   "outputs": [],
   "source": [
    "from datetime import datetime, timedelta"
   ]
  },
  {
   "cell_type": "code",
   "execution_count": 10,
   "metadata": {
    "id": "4CcgfLEDQehd"
   },
   "outputs": [],
   "source": [
    "# Get today's date and calculate the cutoff date (1 year ago)\n",
    "one_year_ago = datetime.now() - timedelta(days=365)"
   ]
  },
  {
   "cell_type": "code",
   "execution_count": 12,
   "metadata": {
    "id": "T00f02TEUZNK"
   },
   "outputs": [],
   "source": [
    "from pyspark.sql.functions import max"
   ]
  },
  {
   "cell_type": "code",
   "execution_count": 13,
   "metadata": {
    "colab": {
     "base_uri": "https://localhost:8080/"
    },
    "id": "O5bFasUzPhDZ",
    "outputId": "dd324547-36f2-44ac-b003-5c885a44e1d2"
   },
   "outputs": [
    {
     "name": "stdout",
     "output_type": "stream",
     "text": [
      "last transaction date for each customer\n",
      "+-----------+---------------------+\n",
      "|customer_id|last_transaction_date|\n",
      "+-----------+---------------------+\n",
      "|       C128|           2024-01-24|\n",
      "|       C123|           2024-01-21|\n",
      "|       C126|           2024-01-19|\n",
      "|       C124|           2024-01-23|\n",
      "|       C125|           2024-01-22|\n",
      "|       C127|           2024-01-20|\n",
      "+-----------+---------------------+\n",
      "\n"
     ]
    }
   ],
   "source": [
    "# Calculate the last transaction date for each customer\n",
    "last_trans_df = (\n",
    "    trans_df\n",
    "    .groupBy(\"customer_id\")\n",
    "    .agg(max(\"transaction_date\").alias(\"last_transaction_date\"))\n",
    ")\n",
    "print(\"last transaction date for each customer\")\n",
    "last_trans_df.show()"
   ]
  },
  {
   "cell_type": "code",
   "execution_count": 14,
   "metadata": {
    "id": "iXrHM1AdUqPC"
   },
   "outputs": [],
   "source": [
    "# Join customer data with last transaction data\n",
    "cust_act_df = cust_df.join(last_trans_df, on=\"customer_id\", how=\"left\")\n"
   ]
  },
  {
   "cell_type": "code",
   "execution_count": 21,
   "metadata": {
    "id": "_Vq-QaWRUtsx"
   },
   "outputs": [],
   "source": [
    "from pyspark.sql.functions import col, lit, year, month"
   ]
  },
  {
   "cell_type": "code",
   "execution_count": 16,
   "metadata": {
    "id": "klnxOE5tUsD5"
   },
   "outputs": [],
   "source": [
    "# Flag customers as inactive if they have no transactions in the last year\n",
    "inactive_cust_df = cust_act_df.withColumn(\n",
    "    \"inactive\", (col(\"last_transaction_date\") < lit(one_year_ago))\n",
    ")"
   ]
  },
  {
   "cell_type": "code",
   "execution_count": 17,
   "metadata": {
    "colab": {
     "base_uri": "https://localhost:8080/"
    },
    "id": "V26CRj2GUw9J",
    "outputId": "cb4b05c5-120c-4148-d5b5-013ef80a0e06"
   },
   "outputs": [
    {
     "name": "stdout",
     "output_type": "stream",
     "text": [
      "inactive customers\n",
      "+-----------+-------------+-----------------+--------+---------------------+\n",
      "|customer_id|customer_name|favorite_category|inactive|last_transaction_date|\n",
      "+-----------+-------------+-----------------+--------+---------------------+\n",
      "+-----------+-------------+-----------------+--------+---------------------+\n",
      "\n"
     ]
    }
   ],
   "source": [
    "# Filter for inactive customers\n",
    "inactive_cust_df = inactive_cust_df.filter(col(\"inactive\") == True)\n",
    "print(\"inactive customers\")\n",
    "inactive_cust_df.show()"
   ]
  },
  {
   "cell_type": "code",
   "execution_count": 19,
   "metadata": {
    "id": "ksFvMu_PU1Qp"
   },
   "outputs": [],
   "source": [
    "from pyspark.sql.functions import count"
   ]
  },
  {
   "cell_type": "code",
   "execution_count": 22,
   "metadata": {
    "id": "GVZZUhFCUzUi"
   },
   "outputs": [],
   "source": [
    "# Calculate churn rate by month\n",
    "churn_by_month_df = (\n",
    "    inactive_cust_df\n",
    "    .withColumn(\"churn_year\", year(col(\"last_transaction_date\")))\n",
    "    .withColumn(\"churn_month\", month(col(\"last_transaction_date\")))\n",
    "    .groupBy(\"churn_year\", \"churn_month\")\n",
    "    .agg(count(\"customer_id\").alias(\"churn_count\"))\n",
    "    .orderBy(\"churn_year\", \"churn_month\")\n",
    ")"
   ]
  },
  {
   "cell_type": "code",
   "execution_count": 23,
   "metadata": {
    "colab": {
     "base_uri": "https://localhost:8080/"
    },
    "id": "u-x6HT_zVExR",
    "outputId": "254df993-00b4-4cdf-a583-bf3e7881d469"
   },
   "outputs": [
    {
     "name": "stdout",
     "output_type": "stream",
     "text": [
      "+----------+-----------+-----------+\n",
      "|churn_year|churn_month|churn_count|\n",
      "+----------+-----------+-----------+\n",
      "+----------+-----------+-----------+\n",
      "\n"
     ]
    }
   ],
   "source": [
    "churn_by_month_df.show()"
   ]
  },
  {
   "cell_type": "code",
   "execution_count": null,
   "metadata": {
    "id": "p4PORUYwTVjB"
   },
   "outputs": [],
   "source": []
  }
 ],
 "metadata": {
  "colab": {
   "provenance": []
  },
  "kernelspec": {
   "display_name": "base",
   "language": "python",
   "name": "python3"
  },
  "language_info": {
   "codemirror_mode": {
    "name": "ipython",
    "version": 3
   },
   "file_extension": ".py",
   "mimetype": "text/x-python",
   "name": "python",
   "nbconvert_exporter": "python",
   "pygments_lexer": "ipython3",
   "version": "3.11.7"
  }
 },
 "nbformat": 4,
 "nbformat_minor": 0
}

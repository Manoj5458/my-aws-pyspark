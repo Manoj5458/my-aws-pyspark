{
 "cells": [
  {
   "cell_type": "markdown",
   "metadata": {
    "id": "Py-9cUe2G2al"
   },
   "source": [
    "# Pyspark"
   ]
  },
  {
   "cell_type": "code",
   "execution_count": null,
   "metadata": {
    "id": "RegCsaNreucq"
   },
   "outputs": [],
   "source": [
    "from datetime import datetime\n",
    "from pyspark.sql import SparkSession\n",
    "from pyspark.sql.functions import col, expr, year\n",
    "from pyspark.sql.types import IntegerType\n",
    "\n",
    "spark = SparkSession.builder.appName(\"CustomerPurchaseAnalysis\")\\\n",
    "    .config(\"spark.jars.packages\", \"org.apache.hadoop:hadoop-aws:3.3.1,com.amazonaws:aws-java-sdk-bundle:1.11.901\") \\\n",
    "    .config(\"spark.hadoop.fs.s3a.access.key\", \"ACCESS_KEY\")\\\n",
    "    .config(\"spark.hadoop.fs.s3a.secret.key\", \"SECRET_KEY\")\\\n",
    "    .config(\"spark.hadoop.fs.s3a.endpoint\", \"s3.amazonaws.com\")\\\n",
    "    .config(\"spark.hadoop.fs.s3a.path.style.access\", \"true\")\\\n",
    "    .config(\"spark.hadoop.fs.s3a.metastore.metrics.enabled\", \"false\") \\\n",
    "    .config(\"spark.hadoop.io.native.lib.available\", \"false\")\\\n",
    "    .config(\"spark.executor.memory\", \"4g\")\\\n",
    "    .config(\"spark.driver.memory\", \"4g\")\\\n",
    "    .config(\"spark.hadoop.fs.s3a.region\", \"ap-south-1\") \\\n",
    "    .getOrCreate()"
   ]
  },
  {
   "cell_type": "markdown",
   "metadata": {
    "id": "50XYqgxoG6iM"
   },
   "source": [
    "**OS Setup**"
   ]
  },
  {
   "cell_type": "code",
   "execution_count": null,
   "metadata": {
    "id": "ssrrJzeJGjMu"
   },
   "outputs": [],
   "source": [
    "import os\n",
    "\n",
    "os.environ['AWS_ACCESS_KEY_ID'] = 'ACCESS_KEY'\n",
    "os.environ['AWS_SECRET_ACCESS_KEY'] = 'SECRET_KEY'\n",
    "os.environ['AWS_DEFAULT_REGION'] = 'ap-south-1'  # e.g., 'us-east-1'"
   ]
  },
  {
   "cell_type": "markdown",
   "metadata": {
    "id": "BveTS6oNHA5N"
   },
   "source": [
    "**Boto Setup**"
   ]
  },
  {
   "cell_type": "code",
   "execution_count": null,
   "metadata": {
    "id": "K1NFK4PJGydc"
   },
   "outputs": [],
   "source": [
    "pip install boto3"
   ]
  },
  {
   "cell_type": "markdown",
   "metadata": {
    "id": "EwXMea5wG_ws"
   },
   "source": [
    "Boto"
   ]
  },
  {
   "cell_type": "code",
   "execution_count": null,
   "metadata": {
    "id": "bw2sQSUTGt2d"
   },
   "outputs": [],
   "source": [
    "import boto3\n",
    "\n",
    "# Create a session with your credentials\n",
    "session = boto3.Session(\n",
    "    aws_access_key_id='ACCESS_KEY',\n",
    "    aws_secret_access_key='SECRET_KEY',\n",
    "    region_name='ap-south-1'  # e.g., 'us-east-1'\n",
    ")\n",
    "\n",
    "dynamodb = session.resource('dynamodb')\n",
    "table = dynamodb.Table('customers')"
   ]
  },
  {
   "cell_type": "code",
   "execution_count": 7,
   "metadata": {
    "id": "Rm5QLH9yHWnl"
   },
   "outputs": [],
   "source": [
    "# Load data from s3\n",
    "trans_input = \"s3a://this-is-my-bucket007/transactions.csv\"\n",
    "trans_df = spark.read.csv(trans_input, header=True, inferSchema=True)\n"
   ]
  },
  {
   "cell_type": "code",
   "execution_count": 8,
   "metadata": {
    "id": "ubgeymZHHsAO"
   },
   "outputs": [],
   "source": [
    "# Load customer data from DynamoDB\n",
    "response = table.scan()\n",
    "cust_data = response['Items']"
   ]
  },
  {
   "cell_type": "code",
   "execution_count": 9,
   "metadata": {
    "id": "okoZctdiHvE9"
   },
   "outputs": [],
   "source": [
    "# Convert the DynamoDB items to DataFrame\n",
    "cust_df = spark.createDataFrame(cust_data)"
   ]
  },
  {
   "cell_type": "code",
   "execution_count": 10,
   "metadata": {
    "colab": {
     "base_uri": "https://localhost:8080/"
    },
    "id": "8_LPgx5-Hxlt",
    "outputId": "70ff016e-54ec-4b91-fbba-279afca790d0"
   },
   "outputs": [
    {
     "name": "stdout",
     "output_type": "stream",
     "text": [
      "Customer Data from DynamoDB:\n",
      "+-----------+-------------+\n",
      "|customer_id|customer_name|\n",
      "+-----------+-------------+\n",
      "|       C125|        manoj|\n",
      "|       C126|          Leo|\n",
      "|       C123|         John|\n",
      "|       C124|        brock|\n",
      "+-----------+-------------+\n",
      "\n",
      "Transaction Data from S3:\n",
      "+--------------+-----------+----------------+------+----------------+\n",
      "|transaction_id|customer_id|transaction_date|amount|product_category|\n",
      "+--------------+-----------+----------------+------+----------------+\n",
      "|          T001|       C123|      2024-01-15|  1200|     Electronics|\n",
      "|          T002|       C124|      2024-01-16|   800|        Clothing|\n",
      "|          T003|       C125|      2024-01-17|  1500| Home Appliances|\n",
      "|          T004|       C123|      2024-01-18|  2000|     Electronics|\n",
      "|          T005|       C126|      2024-01-19|   500|           Books|\n",
      "|          T006|       C127|      2024-01-20|   300|        Clothing|\n",
      "|          T007|       C123|      2024-01-21|  4000|       Furniture|\n",
      "|          T008|       C125|      2024-01-22|   200|           Books|\n",
      "|          T009|       C124|      2024-01-23|  1800|     Electronics|\n",
      "|          T010|       C128|      2024-01-24|   700|        Clothing|\n",
      "+--------------+-----------+----------------+------+----------------+\n",
      "\n"
     ]
    }
   ],
   "source": [
    "# Display the initial rows\n",
    "print(\"Customer Data from DynamoDB:\")\n",
    "cust_df.show()\n",
    "print(\"Transaction Data from S3:\")\n",
    "trans_df.show()"
   ]
  },
  {
   "cell_type": "code",
   "execution_count": 12,
   "metadata": {
    "id": "5s9JAP0uIDjs"
   },
   "outputs": [],
   "source": [
    "from pyspark.sql.functions import max"
   ]
  },
  {
   "cell_type": "code",
   "execution_count": 13,
   "metadata": {
    "colab": {
     "base_uri": "https://localhost:8080/"
    },
    "id": "IlI2Rg9iH1Ns",
    "outputId": "302aa0e1-8f1f-494e-9d7b-1a144111fd5a"
   },
   "outputs": [
    {
     "name": "stdout",
     "output_type": "stream",
     "text": [
      "Last purchase date for each customer\n",
      "+-----------+------------------+\n",
      "|customer_id|last_purchase_date|\n",
      "+-----------+------------------+\n",
      "|       C128|        2024-01-24|\n",
      "|       C123|        2024-01-21|\n",
      "|       C126|        2024-01-19|\n",
      "|       C124|        2024-01-23|\n",
      "|       C125|        2024-01-22|\n",
      "|       C127|        2024-01-20|\n",
      "+-----------+------------------+\n",
      "\n"
     ]
    }
   ],
   "source": [
    "# Calculate last purchase date for each customer\n",
    "last_purchase_df = (\n",
    "    trans_df.groupBy(\"customer_id\").agg(max(\"transaction_date\").alias(\"last_purchase_date\"))\n",
    ")\n",
    "print(\"Last purchase date for each customer\")\n",
    "last_purchase_df.show()"
   ]
  },
  {
   "cell_type": "code",
   "execution_count": 14,
   "metadata": {
    "id": "op0SJXjUIKpt"
   },
   "outputs": [],
   "source": [
    "# Join with customer data to get a complete view\n",
    "cust_act_df = cust_df.join(last_purchase_df, on=\"customer_id\", how=\"inner\")\n"
   ]
  },
  {
   "cell_type": "code",
   "execution_count": 15,
   "metadata": {
    "id": "CZBTqBCzISLm"
   },
   "outputs": [],
   "source": [
    "from datetime import timedelta"
   ]
  },
  {
   "cell_type": "code",
   "execution_count": 16,
   "metadata": {
    "id": "ZZETYeJMIOjM"
   },
   "outputs": [],
   "source": [
    "# Flag customers as inactive if last purchase was over six months ago\n",
    "six_months_ago = datetime.now() - timedelta(days=180)\n",
    "six_months_ago_str = six_months_ago.strftime(\"%Y-%m-%d\")"
   ]
  },
  {
   "cell_type": "code",
   "execution_count": 17,
   "metadata": {
    "id": "IadyVX2OIo7r"
   },
   "outputs": [],
   "source": [
    "from pyspark.sql.functions import datediff, current_date"
   ]
  },
  {
   "cell_type": "code",
   "execution_count": 18,
   "metadata": {
    "colab": {
     "base_uri": "https://localhost:8080/"
    },
    "id": "QnuysataIi5c",
    "outputId": "8a95b03a-b71d-4834-dcdc-fbea348ac429"
   },
   "outputs": [
    {
     "name": "stdout",
     "output_type": "stream",
     "text": [
      "customers status\n",
      "+-----------+--------+\n",
      "|customer_id|inactive|\n",
      "+-----------+--------+\n",
      "|       C125|    true|\n",
      "|       C126|    true|\n",
      "|       C123|    true|\n",
      "|       C124|    true|\n",
      "+-----------+--------+\n",
      "\n"
     ]
    }
   ],
   "source": [
    "inactive_cust_df = cust_act_df.withColumn(\n",
    "    \"inactive\",(datediff(current_date(), col(\"last_purchase_date\")) > 180)\n",
    ").select(\"customer_id\", \"inactive\")\n",
    "\n",
    "print(\"customers status\")\n",
    "inactive_cust_df.show()\n"
   ]
  },
  {
   "cell_type": "code",
   "execution_count": 19,
   "metadata": {
    "id": "6fpG4_faIyK-"
   },
   "outputs": [],
   "source": [
    "# Filter out inactive customers\n",
    "inactive_customers = inactive_cust_df.filter(col(\"inactive\") == True).collect()\n",
    "active_customers = inactive_cust_df.filter(col(\"inactive\") == False).collect()\n"
   ]
  },
  {
   "cell_type": "code",
   "execution_count": 20,
   "metadata": {
    "id": "GVAZaiJCI2kk"
   },
   "outputs": [],
   "source": [
    "# Update status in DynamoDB\n",
    "for row in inactive_customers:\n",
    "    table.update_item(\n",
    "        Key={\"customer_id\": row[\"customer_id\"]},\n",
    "        UpdateExpression=\"SET inactive = :inactive\",\n",
    "        ExpressionAttributeValues={\":inactive\": {\"BOOL\": True}}\n",
    "    )"
   ]
  },
  {
   "cell_type": "code",
   "execution_count": 21,
   "metadata": {
    "id": "h1b-BupTI5g7"
   },
   "outputs": [],
   "source": [
    "# For customers who are active, you can update status as 'active' similarly\n",
    "for row in active_customers:\n",
    "    table.update_item(\n",
    "        Key={\"customer_id\": row[\"customer_id\"]},\n",
    "        UpdateExpression=\"SET status = :status\",\n",
    "        ExpressionAttributeValues={\":status\": {\"S\": \"active\"}}\n",
    "    )"
   ]
  },
  {
   "cell_type": "code",
   "execution_count": 22,
   "metadata": {
    "colab": {
     "base_uri": "https://localhost:8080/"
    },
    "id": "EuzA8ntBI7GE",
    "outputId": "dda0a866-1dc5-468e-aae5-ec1e92aab6c3"
   },
   "outputs": [
    {
     "name": "stdout",
     "output_type": "stream",
     "text": [
      "Customer status updated in DynamoDB.\n"
     ]
    }
   ],
   "source": [
    "print(\"Customer status updated in DynamoDB.\")"
   ]
  },
  {
   "cell_type": "code",
   "execution_count": 23,
   "metadata": {
    "id": "EROMqqH_I893"
   },
   "outputs": [],
   "source": [
    "spark.stop()"
   ]
  }
 ],
 "metadata": {
  "colab": {
   "provenance": []
  },
  "kernelspec": {
   "display_name": "Python 3",
   "name": "python3"
  },
  "language_info": {
   "name": "python"
  }
 },
 "nbformat": 4,
 "nbformat_minor": 0
}

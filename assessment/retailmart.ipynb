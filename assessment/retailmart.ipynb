{
 "cells": [
  {
   "cell_type": "markdown",
   "metadata": {},
   "source": [
    "# Pyspark setup"
   ]
  },
  {
   "cell_type": "code",
   "execution_count": null,
   "metadata": {},
   "outputs": [],
   "source": [
    "from datetime import datetime\n",
    "from pyspark.sql import SparkSession\n",
    "from pyspark.sql.functions import col, expr, year\n",
    "from pyspark.sql.types import IntegerType\n",
    " \n",
    "spark = SparkSession.builder.appName(\"CustomerAnalysis\")\\\n",
    "    .config(\"spark.jars.packages\", \"org.apache.hadoop:hadoop-aws:3.3.1,com.amazonaws:aws-java-sdk-bundle:1.11.901\") \\\n",
    "    .config(\"spark.hadoop.fs.s3a.access.key\", \"ACCESS_KEY\")\\\n",
    "    .config(\"spark.hadoop.fs.s3a.secret.key\", \"SECRET_KEY\")\\\n",
    "    .config(\"spark.hadoop.fs.s3a.endpoint\", \"s3.amazonaws.com\")\\\n",
    "    .config(\"spark.hadoop.fs.s3a.path.style.access\", \"true\")\\\n",
    "    .config(\"spark.hadoop.fs.s3a.metastore.metrics.enabled\", \"false\") \\\n",
    "    .config(\"spark.hadoop.io.native.lib.available\", \"false\")\\\n",
    "    .config(\"spark.executor.memory\", \"4g\")\\\n",
    "    .config(\"spark.driver.memory\", \"4g\")\\\n",
    "    .config(\"spark.hadoop.fs.s3a.region\", \"ap-south-1\") \\\n",
    "    .getOrCreate()"
   ]
  },
  {
   "cell_type": "code",
   "execution_count": null,
   "metadata": {},
   "outputs": [],
   "source": [
    "# Load order data from S3\n",
    "orders_df = spark.read.csv(\"s3a://this-is-my-bucket007/order_data.csv\", header=True, inferSchema=True)\n",
    "\n",
    "# Show initial rows to verify data\n",
    "orders_df.show()"
   ]
  },
  {
   "cell_type": "code",
   "execution_count": null,
   "metadata": {},
   "outputs": [],
   "source": [
    "from pyspark.sql.functions import col\n",
    "\n",
    "# Filter orders with amount over ₹1,000\n",
    "high_value_orders_df = orders_df.filter(col(\"amount\") > 1000)\n",
    "\n",
    "# Add discounted_price column\n",
    "high_value_orders_df = high_value_orders_df.withColumn(\"discounted_price\", col(\"amount\") * 0.9)"
   ]
  },
  {
   "cell_type": "code",
   "execution_count": null,
   "metadata": {},
   "outputs": [],
   "source": [
    "# Group by product_category and calculate total sales\n",
    "sales_by_category_df = high_value_orders_df.groupBy(\"product_category\").agg({\"discounted_price\": \"sum\"}).withColumnRenamed(\"sum(discounted_price)\", \"total_sales\")\n",
    "\n",
    "# Show results\n",
    "sales_by_category_df.show()"
   ]
  },
  {
   "cell_type": "code",
   "execution_count": null,
   "metadata": {},
   "outputs": [],
   "source": [
    "# Load customer data\n",
    "customers_df = spark.read.csv(\"s3a://this-is-my-bucket007/customer_data.csv\", header=True, inferSchema=True)\n",
    "\n",
    "# Join customer and order DataFrames\n",
    "customer_sales_df = customers_df.join(high_value_orders_df, customers_df.customer_id == high_value_orders_df.customer_id)"
   ]
  },
  {
   "cell_type": "code",
   "execution_count": null,
   "metadata": {},
   "outputs": [],
   "source": [
    "from pyspark.sql.functions import datediff, current_date\n",
    "\n",
    "# Load employee data\n",
    "employees_df = spark.read.csv(\"s3a://this-is-my-bucket007/employee_data.csv\", header=True, inferSchema=True)\n",
    "\n",
    "# Calculate years_of_experience\n",
    "employees_df = employees_df.withColumn(\"years_of_experience\", datediff(current_date(), col(\"joining_date\")) / 365)"
   ]
  },
  {
   "cell_type": "code",
   "execution_count": null,
   "metadata": {},
   "outputs": [],
   "source": [
    "# Save aggregated sales data to S3 in Parquet format\n",
    "sales_by_category_df.write.parquet(\"s3a://this-is-my-bucket007/aggregated_sales_data.parquet\")"
   ]
  }
 ],
 "metadata": {
  "kernelspec": {
   "display_name": "Python 3",
   "language": "python",
   "name": "python3"
  },
  "language_info": {
   "codemirror_mode": {
    "name": "ipython",
    "version": 3
   },
   "file_extension": ".py",
   "mimetype": "text/x-python",
   "name": "python",
   "nbconvert_exporter": "python",
   "pygments_lexer": "ipython3",
   "version": "3.12.6"
  }
 },
 "nbformat": 4,
 "nbformat_minor": 2
}

{
 "cells": [
  {
   "cell_type": "markdown",
   "metadata": {
    "id": "0SgZdv2baiKo"
   },
   "source": [
    "# Pyspark setup"
   ]
  },
  {
   "cell_type": "code",
   "execution_count": null,
   "metadata": {
    "id": "WGmC9tlWaYEf"
   },
   "outputs": [],
   "source": [
    "from datetime import datetime\n",
    "from pyspark.sql import SparkSession\n",
    "from pyspark.sql.functions import col, expr, year\n",
    "from pyspark.sql.types import IntegerType\n",
    "\n",
    "spark = SparkSession.builder.appName(\"CustomerAnalysis\")\\\n",
    "    .config(\"spark.jars.packages\", \"org.apache.hadoop:hadoop-aws:3.3.1,com.amazonaws:aws-java-sdk-bundle:1.11.901\") \\\n",
    "    .config(\"spark.hadoop.fs.s3a.access.key\", \"ACCESS_KEY\")\\\n",
    "    .config(\"spark.hadoop.fs.s3a.secret.key\", \"SECRET_KEY\")\\\n",
    "    .config(\"spark.hadoop.fs.s3a.endpoint\", \"s3.amazonaws.com\")\\\n",
    "    .config(\"spark.hadoop.fs.s3a.path.style.access\", \"true\")\\\n",
    "    .config(\"spark.hadoop.fs.s3a.metastore.metrics.enabled\", \"false\") \\\n",
    "    .config(\"spark.hadoop.io.native.lib.available\", \"false\")\\\n",
    "    .config(\"spark.executor.memory\", \"4g\")\\\n",
    "    .config(\"spark.driver.memory\", \"4g\")\\\n",
    "    .config(\"spark.hadoop.fs.s3a.region\", \"ap-south-1\") \\\n",
    "    .getOrCreate()"
   ]
  },
  {
   "cell_type": "markdown",
   "metadata": {
    "id": "5fcijXRRzYjw"
   },
   "source": [
    "# categorize customers into tiers (e.g., \"Bronze,\" \"Silver,\" \"Gold\") based on total purchase value"
   ]
  },
  {
   "cell_type": "code",
   "execution_count": null,
   "metadata": {
    "id": "J27rG3GZ4KJg"
   },
   "outputs": [],
   "source": [
    "from pyspark.sql import SparkSession\n",
    "\n",
    "spark = SparkSession.builder \\\n",
    "    .appName(\"CustomerTierAnalysis\") \\\n",
    "    .config(\"spark.hadoop.fs.s3a.region\", \"us-west-2\") \\  # Set your desired region\n",
    "    .getOrCreate()"
   ]
  },
  {
   "cell_type": "code",
   "execution_count": null,
   "metadata": {
    "id": "W8fSfRwE4jOs"
   },
   "outputs": [],
   "source": [
    "# Load transaction data from S3\n",
    "transactions_df = spark.read.csv(\"s3://your-bucket/transactions.csv\", header=True, inferSchema=True)\n",
    "\n",
    "# Show initial rows to verify data\n",
    "transactions_df.show()"
   ]
  },
  {
   "cell_type": "code",
   "execution_count": null,
   "metadata": {
    "id": "oIyYD4fP4mCC"
   },
   "outputs": [],
   "source": [
    "import boto3\n",
    "from pyspark.sql import Row\n",
    "\n",
    "# Initialize a session using Boto3\n",
    "dynamodb = boto3.resource('dynamodb')\n",
    "table = dynamodb.Table('Customers')\n",
    "\n",
    "# Scan the table and load data into a list\n",
    "response = table.scan()\n",
    "customers_data = response['Items']\n",
    "\n",
    "# Define schema for customer data (adjust fields as necessary)\n",
    "schema = StructType([\n",
    "    StructField(\"customer_id\", StringType(), True),\n",
    "    StructField(\"name\", StringType(), True),\n",
    "])\n",
    "\n",
    "# Check if customers_data is empty and create DataFrame accordingly\n",
    "if customers_data:\n",
    "    customers_df = spark.createDataFrame([Row(**item) for item in customers_data])\n",
    "else:\n",
    "    customers_df = spark.createDataFrame([], schema)\n",
    "\n",
    "# Show the DataFrame schema and data (if any)\n",
    "customers_df.printSchema()\n",
    "customers_df.show()"
   ]
  },
  {
   "cell_type": "code",
   "execution_count": null,
   "metadata": {
    "id": "o_XssVmr4nwj"
   },
   "outputs": [],
   "source": [
    "# Join on customer_id\n",
    "joined_df = customers_df.join(transactions_df, customers_df.customer_id == transactions_df.customer_id, \"inner\")"
   ]
  },
  {
   "cell_type": "markdown",
   "metadata": {
    "id": "DIiF0oS84r2i"
   },
   "source": [
    "**Total Spending per Customer**"
   ]
  },
  {
   "cell_type": "code",
   "execution_count": null,
   "metadata": {
    "colab": {
     "base_uri": "https://localhost:8080/"
    },
    "id": "xVuVH94o4qAc",
    "outputId": "661e61b4-5328-4a85-9a82-5877d2393ed0"
   },
   "outputs": [],
   "source": [
    "from pyspark.sql.functions import sum, col\n",
    "\n",
    "# Calculate total spending per customer\n",
    "total_spending_df = joined_df.groupBy(\"customer_id\").agg(sum(\"amount\").alias(\"total_spending\"))\n",
    "\n",
    "# Show total spending results\n",
    "total_spending_df.show()"
   ]
  },
  {
   "cell_type": "code",
   "execution_count": null,
   "metadata": {
    "colab": {
     "base_uri": "https://localhost:8080/"
    },
    "id": "1mU39Emr5HB-",
    "outputId": "97fbaa4f-475d-41e4-91b7-559f62a31b75"
   },
   "outputs": [],
   "source": [
    "from pyspark.sql.functions import when\n",
    "\n",
    "# Define thresholds for tiers\n",
    "tiered_customers_df = total_spending_df.withColumn(\n",
    "    \"tier\",\n",
    "    when(col(\"total_spending\") < 1000, \"Bronze\")\n",
    "    .when((col(\"total_spending\") >= 1000) & (col(\"total_spending\") < 5000), \"Silver\")\n",
    "    .when(col(\"total_spending\") >= 5000, \"Gold\")\n",
    ")\n",
    "\n",
    "\n",
    "# Show tiered customer results\n",
    "tiered_customers_df.show()"
   ]
  },
  {
   "cell_type": "code",
   "execution_count": null,
   "metadata": {
    "id": "qNUvJOfI5Q9e"
   },
   "outputs": [],
   "source": [
    "import json\n",
    "\n",
    "# Convert DataFrame to list of dictionaries for DynamoDB batch write\n",
    "tiered_customers_data = tiered_customers_df.collect()\n",
    "\n",
    "# Prepare batch write for DynamoDB\n",
    "with table.batch_writer() as batch:\n",
    "    for row in tiered_customers_data:\n",
    "        batch.put_item(Item={\n",
    "            'customer_id': row.customer_id,\n",
    "            'total_spending': row.total_spending,\n",
    "            'tier': row.tier,\n",
    "            # Include other fields as necessary\n",
    "        })"
   ]
  }
 ],
 "metadata": {
  "colab": {
   "provenance": [],
   "toc_visible": true
  },
  "kernelspec": {
   "display_name": "base",
   "language": "python",
   "name": "python3"
  },
  "language_info": {
   "codemirror_mode": {
    "name": "ipython",
    "version": 3
   },
   "file_extension": ".py",
   "mimetype": "text/x-python",
   "name": "python",
   "nbconvert_exporter": "python",
   "pygments_lexer": "ipython3",
   "version": "3.11.7"
  }
 },
 "nbformat": 4,
 "nbformat_minor": 0
}

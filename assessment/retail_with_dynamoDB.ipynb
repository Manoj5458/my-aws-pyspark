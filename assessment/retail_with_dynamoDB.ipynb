{
 "cells": [
  {
   "cell_type": "markdown",
   "metadata": {
    "id": "0SgZdv2baiKo"
   },
   "source": [
    "# Pyspark setup"
   ]
  },
  {
   "cell_type": "code",
   "execution_count": null,
   "metadata": {
    "id": "WGmC9tlWaYEf"
   },
   "outputs": [],
   "source": [
    "from datetime import datetime\n",
    "from pyspark.sql import SparkSession\n",
    "from pyspark.sql.functions import col, expr, year\n",
    "from pyspark.sql.types import IntegerType\n",
    "\n",
    "spark = SparkSession.builder.appName(\"CustomerAnalysis\")\\\n",
    "    .config(\"spark.jars.packages\", \"org.apache.hadoop:hadoop-aws:3.3.1,com.amazonaws:aws-java-sdk-bundle:1.11.901\") \\\n",
    "    .config(\"spark.hadoop.fs.s3a.access.key\", \"ACCESS_KEY\")\\\n",
    "    .config(\"spark.hadoop.fs.s3a.secret.key\", \"SECRET_KEY\")\\\n",
    "    .config(\"spark.hadoop.fs.s3a.endpoint\", \"s3.amazonaws.com\")\\\n",
    "    .config(\"spark.hadoop.fs.s3a.path.style.access\", \"true\")\\\n",
    "    .config(\"spark.hadoop.fs.s3a.metastore.metrics.enabled\", \"false\") \\\n",
    "    .config(\"spark.hadoop.io.native.lib.available\", \"false\")\\\n",
    "    .config(\"spark.executor.memory\", \"4g\")\\\n",
    "    .config(\"spark.driver.memory\", \"4g\")\\\n",
    "    .config(\"spark.hadoop.fs.s3a.region\", \"ap-south-1\") \\\n",
    "    .getOrCreate()"
   ]
  },
  {
   "cell_type": "code",
   "execution_count": 2,
   "metadata": {
    "colab": {
     "base_uri": "https://localhost:8080/"
    },
    "id": "ocv03UNWa_NW",
    "outputId": "078ab980-3134-4234-d0d9-e2b597966891"
   },
   "outputs": [
    {
     "name": "stdout",
     "output_type": "stream",
     "text": [
      "+--------+-----------+----------+----------------+------+\n",
      "|order_id|customer_id|order_date|product_category|amount|\n",
      "+--------+-----------+----------+----------------+------+\n",
      "|       1|        101|10/01/2024|     Electronics|  1200|\n",
      "|       2|        102|15/01/2024|         Apparel|   850|\n",
      "|       3|        103|18/01/2024|      Home Decor|  1100|\n",
      "|       4|        101|20/01/2024|     Electronics|   500|\n",
      "|       5|        104|22/01/2024|          Sports|  1300|\n",
      "+--------+-----------+----------+----------------+------+\n",
      "\n"
     ]
    }
   ],
   "source": [
    "# Load order data from S3\n",
    "orders_df = spark.read.csv(\"s3a://this-is-my-bucket007/order_data.csv\", header=True, inferSchema=True)\n",
    "\n",
    "# Show initial rows to verify data\n",
    "orders_df.show()"
   ]
  },
  {
   "cell_type": "markdown",
   "metadata": {
    "id": "qrGoOzdofDpU"
   },
   "source": [
    "# Retailmart with DynamoDB"
   ]
  },
  {
   "cell_type": "code",
   "execution_count": null,
   "metadata": {
    "id": "_7XmJFtUfPqq"
   },
   "outputs": [],
   "source": [
    "pip install boto3"
   ]
  },
  {
   "cell_type": "code",
   "execution_count": null,
   "metadata": {
    "id": "0an9RZtyguxq"
   },
   "outputs": [],
   "source": [
    "import os\n",
    "\n",
    "os.environ['AWS_ACCESS_KEY_ID'] = 'ACCESS_KEY'\n",
    "os.environ['AWS_SECRET_ACCESS_KEY'] = 'SECRET_KEY'\n",
    "os.environ['AWS_DEFAULT_REGION'] = 'ap-south-1'  # e.g., 'us-east-1'"
   ]
  },
  {
   "cell_type": "markdown",
   "metadata": {
    "id": "TVuCvs_jhDUQ"
   },
   "source": [
    "**Boto Session**"
   ]
  },
  {
   "cell_type": "code",
   "execution_count": null,
   "metadata": {
    "id": "24OHpq30hNAJ"
   },
   "outputs": [],
   "source": [
    "import boto3\n",
    "\n",
    "# Create a session with your credentials\n",
    "session = boto3.Session(\n",
    "    aws_access_key_id='ACCESS_KEY',\n",
    "    aws_secret_access_key='SECRET_KEY',\n",
    "    region_name='ap-south-1'  # e.g., 'us-east-1'\n",
    ")\n",
    "\n",
    "dynamodb = session.resource('dynamodb')\n",
    "table = dynamodb.Table('Customers')"
   ]
  },
  {
   "cell_type": "code",
   "execution_count": 32,
   "metadata": {
    "id": "TbGMgdVNfHgL"
   },
   "outputs": [],
   "source": [
    "import boto3\n",
    "from pyspark.sql import Row\n",
    "\n",
    "# Initialize a session using Boto3\n",
    "dynamodb = boto3.resource('dynamodb',region_name='ap-south-1')\n",
    "table = dynamodb.Table('Customers')\n",
    "\n",
    "# Scan the table and load data into a list\n",
    "response = table.scan()\n",
    "customers_data = response['Items']\n",
    "\n",
    "# Convert to DataFrame\n",
    "customers_df = spark.createDataFrame([Row(**item) for item in customers_data]).alias(\"t\")"
   ]
  },
  {
   "cell_type": "code",
   "execution_count": 33,
   "metadata": {
    "colab": {
     "base_uri": "https://localhost:8080/"
    },
    "id": "5mcpSy46w2fj",
    "outputId": "336bd62a-c1d7-4e1b-95a2-c3b1adbb2b44"
   },
   "outputs": [
    {
     "name": "stdout",
     "output_type": "stream",
     "text": [
      "+--------------+-----------+----------------+------+----------------+\n",
      "|transaction_id|customer_id|transaction_date|amount|product_category|\n",
      "+--------------+-----------+----------------+------+----------------+\n",
      "|          T001|       C123|      2024-01-15|  1200|     Electronics|\n",
      "|          T002|       C124|      2024-01-16|   800|        Clothing|\n",
      "|          T003|       C125|      2024-01-17|  1500| Home Appliances|\n",
      "|          T004|       C123|      2024-01-18|  2000|     Electronics|\n",
      "|          T005|       C126|      2024-01-19|   500|           Books|\n",
      "|          T006|       C127|      2024-01-20|   300|        Clothing|\n",
      "|          T007|       C123|      2024-01-21|  4000|       Furniture|\n",
      "|          T008|       C125|      2024-01-22|   200|           Books|\n",
      "|          T009|       C124|      2024-01-23|  1800|     Electronics|\n",
      "|          T010|       C128|      2024-01-24|   700|        Clothing|\n",
      "+--------------+-----------+----------------+------+----------------+\n",
      "\n"
     ]
    }
   ],
   "source": [
    "# Load transaction data from S3\n",
    "transactions_df = spark.read.csv(\"s3a://this-is-my-bucket007/transactions.csv\", header=True, inferSchema=True).alias(\"t1\")\n",
    "\n",
    "# Show initial rows to verify data\n",
    "transactions_df.show()"
   ]
  },
  {
   "cell_type": "code",
   "execution_count": 35,
   "metadata": {
    "id": "4I8FTZThw_aD"
   },
   "outputs": [],
   "source": [
    "# Join on customer_id\n",
    "joined_df = customers_df.join(transactions_df, customers_df.id == transactions_df.customer_id, \"inner\").alias(\"t2\")"
   ]
  },
  {
   "cell_type": "code",
   "execution_count": 37,
   "metadata": {
    "colab": {
     "base_uri": "https://localhost:8080/"
    },
    "id": "7z-nxnovxF6j",
    "outputId": "9bec7cf1-27f2-41f8-bdbf-783618c2454c"
   },
   "outputs": [
    {
     "name": "stdout",
     "output_type": "stream",
     "text": [
      "+-----------+---------------------+\n",
      "|customer_id|repeat_purchase_count|\n",
      "+-----------+---------------------+\n",
      "+-----------+---------------------+\n",
      "\n"
     ]
    }
   ],
   "source": [
    "from pyspark.sql.functions import count\n",
    "\n",
    "# Count repeat purchases per customer\n",
    "repeat_purchases_df = joined_df.groupBy(\"customer_id\").agg(count(\"transaction_id\").alias(\"repeat_purchase_count\"))\n",
    "\n",
    "# Show results\n",
    "repeat_purchases_df.show()"
   ]
  },
  {
   "cell_type": "code",
   "execution_count": 38,
   "metadata": {
    "colab": {
     "base_uri": "https://localhost:8080/"
    },
    "id": "KXMEmZMuzIdC",
    "outputId": "2a63ed35-bc56-408c-cbc8-086786bdb654"
   },
   "outputs": [
    {
     "name": "stdout",
     "output_type": "stream",
     "text": [
      "+-----------+---------------------+\n",
      "|customer_id|repeat_purchase_count|\n",
      "+-----------+---------------------+\n",
      "+-----------+---------------------+\n",
      "\n"
     ]
    }
   ],
   "source": [
    "# Sort by repeat purchase count in descending order\n",
    "top_repeat_customers_df = repeat_purchases_df.orderBy(\"repeat_purchase_count\", ascending=False)\n",
    "\n",
    "# Show top repeat customers\n",
    "top_repeat_customers_df.show()"
   ]
  },
  {
   "cell_type": "code",
   "execution_count": 40,
   "metadata": {
    "id": "wp_zcQlXzKTH"
   },
   "outputs": [],
   "source": [
    "# Save top repeat customers data to S3 in Parquet format\n",
    "top_repeat_customers_df.write.parquet(\"s3a://this-is-my-bucket007/top_repeat_customers.parquet\")"
   ]
  },
  {
   "cell_type": "markdown",
   "metadata": {
    "id": "5fcijXRRzYjw"
   },
   "source": []
  }
 ],
 "metadata": {
  "colab": {
   "provenance": [],
   "toc_visible": true
  },
  "kernelspec": {
   "display_name": "Python 3",
   "name": "python3"
  },
  "language_info": {
   "name": "python"
  }
 },
 "nbformat": 4,
 "nbformat_minor": 0
}
